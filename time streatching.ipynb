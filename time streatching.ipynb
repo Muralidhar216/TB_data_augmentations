{
 "cells": [
  {
   "cell_type": "code",
   "execution_count": 1,
   "metadata": {},
   "outputs": [
    {
     "data": {
      "text/plain": [
       "'import os\\nimport librosa\\nimport soundfile as sf\\nfrom audiomentations import Compose, AddGaussianNoise, PitchShift,\\n\\n#hell=[]\\n# Set up the augmentation pipeline\\naugmentations = Compose([\\n    AddGaussianNoise(min_amplitude=0.001, max_amplitude=0.01, p=0.5),\\n    \\n])\\n\\n#input_dir = \"solicited/\"\\noutput_dir = \"audiomentations/finalaudio/\"\\n\\nfor file_name in audiolist:\\n    if file_name.endswith(\".wav\"):\\n        #input_path = os.path.join(input_dir, file_name)\\n        #hell.append(file_name)\\n\\n        x=file_name.split(\"/\")\\n        output_filename = os.path.splitext(x[1])[0]+\"_aug\"+\".wav\"\\n        output_path = os.path.join(output_dir,output_filename )\\n\\n        # Load the audio file\\n        audio, sample_rate = librosa.load(file_name)\\n\\n        # Apply augmentations\\n        augmented_audio = augmentations(samples=audio, sample_rate=sample_rate)\\n\\n        # Save the augmented audio to a new file\\n        sf.write(output_path, augmented_audio, sample_rate)'"
      ]
     },
     "execution_count": 1,
     "metadata": {},
     "output_type": "execute_result"
    }
   ],
   "source": [
    "\"\"\"import os\n",
    "import librosa\n",
    "import soundfile as sf\n",
    "from audiomentations import Compose, AddGaussianNoise, PitchShift,\n",
    "\n",
    "#hell=[]\n",
    "# Set up the augmentation pipeline\n",
    "augmentations = Compose([\n",
    "    AddGaussianNoise(min_amplitude=0.001, max_amplitude=0.01, p=0.5),\n",
    "    \n",
    "])\n",
    "\n",
    "#input_dir = \"solicited/\"\n",
    "output_dir = \"audiomentations/finalaudio/\"\n",
    "\n",
    "for file_name in audiolist:\n",
    "    if file_name.endswith(\".wav\"):\n",
    "        #input_path = os.path.join(input_dir, file_name)\n",
    "        #hell.append(file_name)\n",
    "\n",
    "        x=file_name.split(\"/\")\n",
    "        output_filename = os.path.splitext(x[1])[0]+\"_aug\"+\".wav\"\n",
    "        output_path = os.path.join(output_dir,output_filename )\n",
    "\n",
    "        # Load the audio file\n",
    "        audio, sample_rate = librosa.load(file_name)\n",
    "\n",
    "        # Apply augmentations\n",
    "        augmented_audio = augmentations(samples=audio, sample_rate=sample_rate)\n",
    "\n",
    "        # Save the augmented audio to a new file\n",
    "        sf.write(output_path, augmented_audio, sample_rate)\"\"\"\n"
   ]
  },
  {
   "cell_type": "code",
   "execution_count": 6,
   "metadata": {},
   "outputs": [],
   "source": [
    "import librosa\n",
    "import soundfile as sf\n",
    "import os\n",
    "def time_stretch(signal):\n",
    "    stretch_rate = 0.6\n",
    "    return librosa.effects.time_stretch(signal,stretch_rate)\n",
    "\n",
    "\n"
   ]
  },
  {
   "cell_type": "code",
   "execution_count": 7,
   "metadata": {},
   "outputs": [
    {
     "name": "stderr",
     "output_type": "stream",
     "text": [
      "C:\\Users\\Murali\\AppData\\Local\\Temp\\ipykernel_13812\\2183251270.py:6: FutureWarning: Pass rate=0.6 as keyword args. From version 0.10 passing these as positional arguments will result in an error\n",
      "  return librosa.effects.time_stretch(signal,stretch_rate)\n",
      "C:\\Users\\Murali\\AppData\\Local\\Temp\\ipykernel_13812\\2183251270.py:6: FutureWarning: Pass rate=0.6 as keyword args. From version 0.10 passing these as positional arguments will result in an error\n",
      "  return librosa.effects.time_stretch(signal,stretch_rate)\n"
     ]
    }
   ],
   "source": [
    "\n",
    "input_dir = \"sound/file3/\"\n",
    "output_dir = \"timestretching/\"\n",
    "\n",
    "for file_name in os.listdir(input_dir):\n",
    "    if file_name.endswith(\".wav\"):\n",
    "        input_path = os.path.join(input_dir, file_name)\n",
    "\n",
    "        output_filename = os.path.splitext(file_name)[0]+\"_ts.wav\"\n",
    "        output_path = os.path.join(output_dir,output_filename )\n",
    "\n",
    "        # Load the audio file\n",
    "        signal,sr=librosa.load(input_path)\n",
    "        #audio, sample_rate = librosa.load(file_name)\n",
    "\n",
    "        # Apply augmentations\n",
    "        augmented_signal=time_stretch(signal)\n",
    "\n",
    "        # Save the augmented audio to a new file\n",
    "        #sf.write(\"timestretching/augmented.wav\",augmented_signal,sr)\n",
    "        sf.write(output_path, augmented_signal, sr)"
   ]
  }
 ],
 "metadata": {
  "kernelspec": {
   "display_name": "Python 3",
   "language": "python",
   "name": "python3"
  },
  "language_info": {
   "codemirror_mode": {
    "name": "ipython",
    "version": 3
   },
   "file_extension": ".py",
   "mimetype": "text/x-python",
   "name": "python",
   "nbconvert_exporter": "python",
   "pygments_lexer": "ipython3",
   "version": "3.10.4"
  },
  "orig_nbformat": 4
 },
 "nbformat": 4,
 "nbformat_minor": 2
}
