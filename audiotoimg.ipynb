{
 "cells": [
  {
   "cell_type": "code",
   "execution_count": 4,
   "metadata": {},
   "outputs": [],
   "source": [
    "import os\n",
    "import librosa\n",
    "import librosa.display\n",
    "import matplotlib.pyplot as plt\n",
    "import numpy as np\n",
    "\n",
    "# Directory containing audio files\n",
    "audio_dir = \"audiomentations/finalaudio\"\n",
    "\n",
    "# Output directory to save spectrogram images\n",
    "output_dir = \"audiomentations/finalaudio/images\"\n",
    "\n",
    "# Parameters for mel spectrogram computation\n",
    "n_fft = 2048  # Window size for Fourier transform\n",
    "hop_length = 512  # Amount of overlap between consecutive frames\n",
    "n_mels = 128  # Number of mel bands to generate\n",
    "\n",
    "# Process each audio file in the directory\n",
    "for filename in os.listdir(audio_dir):\n",
    "    if filename.endswith(\".wav\"):\n",
    "        # Load audio file\n",
    "        audio_path = os.path.join(audio_dir, filename)\n",
    "        audio, sr = librosa.load(audio_path)\n",
    "\n",
    "        # Resample audio if required\n",
    "        target_sample_rate = 22050\n",
    "        if sr != target_sample_rate:\n",
    "            audio = librosa.resample(audio, sr, target_sample_rate)\n",
    "            sr = target_sample_rate\n",
    "\n",
    "        # Compute mel spectrogram\n",
    "        mel_spec = librosa.feature.melspectrogram(y=audio, sr=sr, n_fft=n_fft, hop_length=hop_length, n_mels=n_mels)\n",
    "        mel_spec_db = librosa.power_to_db(mel_spec, ref=np.max)\n",
    "\n",
    "        # Create output filename\n",
    "        output_filename = os.path.splitext(filename)[0] + \".png\"\n",
    "        output_path = os.path.join(output_dir, output_filename)\n",
    "\n",
    "        # Display and save the spectrogram\n",
    "        plt.figure(figsize=(10, 4))\n",
    "        librosa.display.specshow(mel_spec_db, sr=sr, hop_length=hop_length, x_axis='time', y_axis='mel')\n",
    "        plt.colorbar(format='%+2.0f dB')\n",
    "        plt.title('Mel Spectrogram')\n",
    "        plt.tight_layout()\n",
    "        plt.savefig(output_path)\n",
    "        plt.close()\n",
    "\n",
    "        #print(f\"Saved spectrogram: {output_filename}\")\n"
   ]
  }
 ],
 "metadata": {
  "kernelspec": {
   "display_name": "Python 3",
   "language": "python",
   "name": "python3"
  },
  "language_info": {
   "codemirror_mode": {
    "name": "ipython",
    "version": 3
   },
   "file_extension": ".py",
   "mimetype": "text/x-python",
   "name": "python",
   "nbconvert_exporter": "python",
   "pygments_lexer": "ipython3",
   "version": "3.10.4"
  },
  "orig_nbformat": 4
 },
 "nbformat": 4,
 "nbformat_minor": 2
}
