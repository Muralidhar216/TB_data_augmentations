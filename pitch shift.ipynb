{
 "cells": [
  {
   "cell_type": "code",
   "execution_count": 6,
   "metadata": {},
   "outputs": [],
   "source": [
    "import numpy as np\n",
    "import pandas as pd"
   ]
  },
  {
   "cell_type": "code",
   "execution_count": 7,
   "metadata": {},
   "outputs": [],
   "source": [
    "import os\n",
    "import librosa\n",
    "import soundfile as sf\n",
    "\n",
    "# Specify the input directory containing audio files\n",
    "input_directory =r\"solicited/\"\n",
    "\n",
    "# Specify the output directory to save the pitch-shifted files\n",
    "output_directory =r\"augaudio/\"\n",
    "\n",
    "# Specify the pitch shift amount in semitones\n",
    "pitch_shift_amount = 2  # Increase the pitch by 2 semitones\n",
    "\n",
    "# Iterate over all audio files in the input directory\n",
    "for filename in os.listdir(input_directory):\n",
    "    if filename.endswith(\".wav\"):\n",
    "        # Load the audio file\n",
    "        input_path = os.path.join(input_directory, filename)\n",
    "        audio, sr = librosa.load(input_path)\n",
    "\n",
    "        # Perform pitch shifting\n",
    "        shifted_audio = librosa.effects.pitch_shift(audio, sr=sr, n_steps=pitch_shift_amount)\n",
    "\n",
    "        output_filename = os.path.splitext(filename)[0]+\"_aug\"+\".wav\"\n",
    "\n",
    "        # Construct the output file path\n",
    "        output_path = os.path.join(output_directory,output_filename)\n",
    "\n",
    "        # Save the pitch-shifted audio\n",
    "        sf.write(output_path, shifted_audio,sr)\n",
    "\n"
   ]
  }
 ],
 "metadata": {
  "kernelspec": {
   "display_name": "Python 3",
   "language": "python",
   "name": "python3"
  },
  "language_info": {
   "codemirror_mode": {
    "name": "ipython",
    "version": 3
   },
   "file_extension": ".py",
   "mimetype": "text/x-python",
   "name": "python",
   "nbconvert_exporter": "python",
   "pygments_lexer": "ipython3",
   "version": "3.10.4"
  },
  "orig_nbformat": 4
 },
 "nbformat": 4,
 "nbformat_minor": 2
}
